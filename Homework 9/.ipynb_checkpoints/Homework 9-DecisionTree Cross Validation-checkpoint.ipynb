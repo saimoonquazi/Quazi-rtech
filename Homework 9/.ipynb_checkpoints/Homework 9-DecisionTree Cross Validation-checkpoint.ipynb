{
 "cells": [
  {
   "cell_type": "markdown",
   "metadata": {},
   "source": [
    "Reading in the data and seperating the features and the labels only. No splitting is required since cross validation takes care of that. "
   ]
  },
  {
   "cell_type": "code",
   "execution_count": 14,
   "metadata": {},
   "outputs": [],
   "source": [
    "import csv\n",
    "import numpy as np \n",
    "import matplotlib.pyplot as plt\n",
    "from sklearn import tree\n",
    "from sklearn.model_selection import LeaveOneOut\n",
    "from sklearn.model_selection import cross_val_score\n",
    "from sklearn.decomposition import PCA\n",
    "from sklearn.preprocessing import StandardScaler\n",
    "from sklearn.metrics import accuracy_score\n",
    "from sklearn.discriminant_analysis import LinearDiscriminantAnalysis as LDA\n",
    "import numpy as np"
   ]
  },
  {
   "cell_type": "code",
   "execution_count": 15,
   "metadata": {},
   "outputs": [],
   "source": [
    "# Load the Fisher data file\n",
    "csv.register_dialect('myDialect',\n",
    "delimiter = '\\t',\n",
    "skipinitialspace=True)\n",
    "\n",
    "# Read data\n",
    "data_table = []\n",
    "with open('Fisher.txt', 'r') as csvFile:\n",
    "    reader = csv.reader(csvFile, dialect='myDialect')\n",
    "    data_table = list(reader)\n",
    "csvFile.close()\n",
    "\n",
    "header = data_table[0]\n",
    "del data_table[0]\n",
    "\n",
    "data = np.zeros((len(data_table), len(data_table[0])))\n",
    "\n",
    "for i in range(0,len(data_table)):\n",
    "    tmp = data_table[i]\n",
    "    for j in range(0,len(tmp)):\n",
    "        data[i,j] = float(tmp[j])\n",
    "\n",
    "# Seperate Features and Labels        \n",
    "feature=data[:,[1,2,3,4]]\n",
    "labels=data[:,[0]]"
   ]
  },
  {
   "cell_type": "code",
   "execution_count": 16,
   "metadata": {},
   "outputs": [],
   "source": [
    "# Define the Leave Out One Object\n",
    "LOO=LeaveOneOut()\n",
    "# Compute the number of iterations for the leave one out validation (same as sample size)\n",
    "number_of_iterations=LOO.get_n_splits(feature)\n",
    "#Define the Decision Tree Classifier\n",
    "d3=tree.DecisionTreeClassifier()"
   ]
  },
  {
   "cell_type": "code",
   "execution_count": 17,
   "metadata": {},
   "outputs": [
    {
     "name": "stdout",
     "output_type": "stream",
     "text": [
      "The Accuracy of the Decision Tree Classifier with Leave One Out Validation is : 92.666667%\n"
     ]
    }
   ],
   "source": [
    "#Define a total score variable\n",
    "total_score=0;\n",
    "# Perform Leave one out validation on the Decision Tree Classifier\n",
    "for train_index,test_index in LOO.split(feature):\n",
    "    #print(\"TRAIN:\", train_index, \"TEST:\", test_index)\n",
    "    train_features, test_features = feature[train_index], feature[test_index]\n",
    "    train_labels, test_labels = labels[train_index], labels[test_index]\n",
    "   \n",
    "    clf=d3.fit(train_features,train_labels)\n",
    "    total_score+=clf.score(test_features,test_labels)\n",
    "\n",
    "#Compute the mean accuracy\n",
    "mean_score=(total_score/number_of_iterations)*100\n",
    "print('The Accuracy of the Decision Tree Classifier with Leave One Out Validation is : %f' %mean_score+'%')"
   ]
  },
  {
   "cell_type": "code",
   "execution_count": 18,
   "metadata": {},
   "outputs": [
    {
     "name": "stdout",
     "output_type": "stream",
     "text": [
      "The Accuracy of the Decision Tree Classifier with 10-fold Cross Validation is : 93.333333% (+/- 0.12)\n"
     ]
    }
   ],
   "source": [
    "# Perform 10-fold Cross Validation with the Decision Tree Classifier\n",
    "scores_d3 = cross_val_score(d3, feature, labels, cv=10)\n",
    "accur_crossval_d3=scores_d3.mean()*100\n",
    "std_crossval_d3=scores_d3.std() * 2\n",
    "print('The Accuracy of the Decision Tree Classifier with 10-fold Cross Validation is : %f'%accur_crossval_d3+'%'+' (+/- %0.2f)'%std_crossval_d3)\n"
   ]
  },
  {
   "cell_type": "markdown",
   "metadata": {},
   "source": [
    "Perform Leave One Out validation on PCA-Decision Tree classifier. Does not work so well in my opinion. You will get lots of warnings so used \"np.seterr\" to ignore the warnings. "
   ]
  },
  {
   "cell_type": "code",
   "execution_count": 19,
   "metadata": {},
   "outputs": [
    {
     "name": "stdout",
     "output_type": "stream",
     "text": [
      "33.33333333333333\n"
     ]
    }
   ],
   "source": [
    "np.seterr(divide='ignore', invalid='ignore')\n",
    "\n",
    "total_score=0\n",
    "pca=PCA(n_components=1)\n",
    "for train_index,test_index in LOO.split(feature):\n",
    "    train_features, test_features = feature[train_index], feature[test_index]\n",
    "    train_labels, test_labels = labels[train_index], labels[test_index]\n",
    "    \n",
    "    sc=StandardScaler()\n",
    "    train_set=sc.fit_transform(train_features)\n",
    "    test_set=sc.fit_transform(test_features)\n",
    "\n",
    "    pca_train_set= pca.fit_transform(train_set) \n",
    "    pca_test_set=pca.fit_transform(test_set)\n",
    "    \n",
    "    clf_pca=d3.fit(pca_train_set,train_labels)\n",
    "    prediction_pca=clf_pca.predict(pca_test_set)\n",
    "    total_score+=accuracy_score(test_labels,prediction_pca) \n",
    "\n",
    "mean_score=(total_score/number_of_iterations)*100\n",
    "print(mean_score)"
   ]
  },
  {
   "cell_type": "markdown",
   "metadata": {},
   "source": [
    "Cross Validation with 10 folds on the PCA-Decision Tree Classifier"
   ]
  },
  {
   "cell_type": "code",
   "execution_count": 20,
   "metadata": {},
   "outputs": [
    {
     "name": "stdout",
     "output_type": "stream",
     "text": [
      "The Accuracy of the Decision Tree Classifier with 10-fold Cross Validation is : 94.000000% (+/- 0.14)\n"
     ]
    }
   ],
   "source": [
    "feature_set=sc.fit_transform(feature)\n",
    "\n",
    "pca_features= pca.fit_transform(feature_set) \n",
    "\n",
    "scores_d3PCA = cross_val_score(d3, pca_features, labels, cv=10)\n",
    "accur_crossval_d3PCA=scores_d3PCA.mean()*100\n",
    "std_crossval_d3PCA=scores_d3PCA.std() * 2\n",
    "print('The Accuracy of the Decision Tree Classifier with 10-fold Cross Validation is : %f'%accur_crossval_d3PCA+'%'+' (+/- %0.2f)'%std_crossval_d3PCA)"
   ]
  },
  {
   "cell_type": "markdown",
   "metadata": {},
   "source": [
    "Perform Leave One Out validation for the LDA - Decision Tree Classifier"
   ]
  },
  {
   "cell_type": "code",
   "execution_count": 21,
   "metadata": {},
   "outputs": [
    {
     "name": "stdout",
     "output_type": "stream",
     "text": [
      "95.33333333333334\n"
     ]
    }
   ],
   "source": [
    "lda=LDA(n_components=2)\n",
    "\n",
    "total_score=0\n",
    "for train_index,test_index in LOO.split(feature):\n",
    "    train_features, test_features = feature[train_index], feature[test_index]\n",
    "    train_labels, test_labels = labels[train_index], labels[test_index]\n",
    "    \n",
    "    lda_train_set=lda.fit_transform(train_features,np.ravel(train_labels))\n",
    "    lda_test_set = lda.transform(test_features)\n",
    "    \n",
    "    clf_lda=d3.fit(lda_train_set,train_labels)\n",
    "    prediction_lda=clf_lda.predict(lda_test_set)\n",
    "    total_score+=accuracy_score(test_labels,prediction_lda) \n",
    "#    total_score+=clf_pca.score(pca_test_set,test_labels)\n",
    "\n",
    "mean_score=(total_score/number_of_iterations)*100\n",
    "print(mean_score)"
   ]
  },
  {
   "cell_type": "markdown",
   "metadata": {},
   "source": [
    "Perform Cross Validation for 10 folds for the LDA-Decision Tree Classifier"
   ]
  },
  {
   "cell_type": "code",
   "execution_count": 13,
   "metadata": {},
   "outputs": [
    {
     "ename": "NameError",
     "evalue": "name 'lda' is not defined",
     "output_type": "error",
     "traceback": [
      "\u001b[0;31m---------------------------------------------------------------------------\u001b[0m",
      "\u001b[0;31mNameError\u001b[0m                                 Traceback (most recent call last)",
      "\u001b[0;32m<ipython-input-13-db3733a555a0>\u001b[0m in \u001b[0;36m<module>\u001b[0;34m\u001b[0m\n\u001b[0;32m----> 1\u001b[0;31m \u001b[0mlda_features\u001b[0m\u001b[0;34m=\u001b[0m\u001b[0mlda\u001b[0m\u001b[0;34m.\u001b[0m\u001b[0mfit_transform\u001b[0m\u001b[0;34m(\u001b[0m\u001b[0mfeature\u001b[0m\u001b[0;34m,\u001b[0m\u001b[0mnp\u001b[0m\u001b[0;34m.\u001b[0m\u001b[0mravel\u001b[0m\u001b[0;34m(\u001b[0m\u001b[0mlabels\u001b[0m\u001b[0;34m)\u001b[0m\u001b[0;34m)\u001b[0m\u001b[0;34m\u001b[0m\u001b[0;34m\u001b[0m\u001b[0m\n\u001b[0m\u001b[1;32m      2\u001b[0m \u001b[0;34m\u001b[0m\u001b[0m\n\u001b[1;32m      3\u001b[0m \u001b[0mscores_d3LDA\u001b[0m \u001b[0;34m=\u001b[0m \u001b[0mcross_val_score\u001b[0m\u001b[0;34m(\u001b[0m\u001b[0md3\u001b[0m\u001b[0;34m,\u001b[0m \u001b[0mlda_features\u001b[0m\u001b[0;34m,\u001b[0m \u001b[0mlabels\u001b[0m\u001b[0;34m,\u001b[0m \u001b[0mcv\u001b[0m\u001b[0;34m=\u001b[0m\u001b[0;36m10\u001b[0m\u001b[0;34m)\u001b[0m\u001b[0;34m\u001b[0m\u001b[0;34m\u001b[0m\u001b[0m\n\u001b[1;32m      4\u001b[0m \u001b[0maccur_crossval_d3LDA\u001b[0m\u001b[0;34m=\u001b[0m\u001b[0mscores_d3LDA\u001b[0m\u001b[0;34m.\u001b[0m\u001b[0mmean\u001b[0m\u001b[0;34m(\u001b[0m\u001b[0;34m)\u001b[0m\u001b[0;34m*\u001b[0m\u001b[0;36m100\u001b[0m\u001b[0;34m\u001b[0m\u001b[0;34m\u001b[0m\u001b[0m\n\u001b[1;32m      5\u001b[0m \u001b[0mstd_crossval_d3LDA\u001b[0m\u001b[0;34m=\u001b[0m\u001b[0mscores_d3LDA\u001b[0m\u001b[0;34m.\u001b[0m\u001b[0mstd\u001b[0m\u001b[0;34m(\u001b[0m\u001b[0;34m)\u001b[0m \u001b[0;34m*\u001b[0m \u001b[0;36m2\u001b[0m\u001b[0;34m\u001b[0m\u001b[0;34m\u001b[0m\u001b[0m\n",
      "\u001b[0;31mNameError\u001b[0m: name 'lda' is not defined"
     ]
    }
   ],
   "source": [
    "lda_features=lda.fit_transform(feature,np.ravel(labels)) \n",
    "\n",
    "scores_d3LDA = cross_val_score(d3, lda_features, labels, cv=10)\n",
    "accur_crossval_d3LDA=scores_d3LDA.mean()*100\n",
    "std_crossval_d3LDA=scores_d3LDA.std() * 2\n",
    "print('The Accuracy of the Decision Tree Classifier with 10-fold Cross Validation is : %f'%accur_crossval_d3LDA+'%'+' (+/- %0.2f)'%std_crossval_d3LDA)"
   ]
  },
  {
   "cell_type": "code",
   "execution_count": null,
   "metadata": {},
   "outputs": [],
   "source": []
  }
 ],
 "metadata": {
  "kernelspec": {
   "display_name": "Python 3",
   "language": "python",
   "name": "python3"
  },
  "language_info": {
   "codemirror_mode": {
    "name": "ipython",
    "version": 3
   },
   "file_extension": ".py",
   "mimetype": "text/x-python",
   "name": "python",
   "nbconvert_exporter": "python",
   "pygments_lexer": "ipython3",
   "version": "3.7.3"
  }
 },
 "nbformat": 4,
 "nbformat_minor": 2
}
