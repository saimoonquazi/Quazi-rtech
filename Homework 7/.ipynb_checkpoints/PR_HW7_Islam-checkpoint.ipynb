{
 "cells": [
  {
   "cell_type": "code",
   "execution_count": 7,
   "metadata": {},
   "outputs": [
    {
     "data": {
      "image/png": "[encoded data removed]",
      "text/plain": [
       "<Figure size 432x288 with 1 Axes>"
      ]
     },
     "metadata": {
      "needs_background": "light"
     },
     "output_type": "display_data"
    },
    {
     "data": {
      "text/plain": [
       "<Figure size 432x288 with 0 Axes>"
      ]
     },
     "metadata": {},
     "output_type": "display_data"
    }
   ],
   "source": [
    "import csv\n",
    "import numpy as np \n",
    "import matplotlib.pyplot as plt\n",
    "\n",
    "csv.register_dialect('myDialect',\n",
    "delimiter = '\\t',\n",
    "skipinitialspace=True)\n",
    "\n",
    "# read data\n",
    "data_table = []\n",
    "with open('Fisher.txt', 'r') as csvFile:\n",
    "    reader = csv.reader(csvFile, dialect='myDialect')\n",
    "    data_table = list(reader)\n",
    "csvFile.close()\n",
    "\n",
    "header = data_table[0]\n",
    "del data_table[0]\n",
    "\n",
    "data = np.zeros((len(data_table), len(data_table[0])))\n",
    "\n",
    "for i in range(0,len(data_table)):\n",
    "    tmp = data_table[i]\n",
    "    for j in range(0,len(tmp)):\n",
    "        data[i,j] = float(tmp[j])\n",
    "\n",
    "# MAKE TRAIN AND TEST DATA\n",
    "# spilt class\n",
    "setosa = data[data[:,0] == 0,:]\n",
    "verginica = data[data[:,0] == 1,:]\n",
    "versicolor = data[data[:,0] == 2,:]\n",
    "\n",
    "data_split = 0.8\n",
    "\n",
    "# get index for splitting the data\n",
    "samples_setosa = int(setosa.shape[0]*data_split)\n",
    "samples_verginica = int(verginica.shape[0]*data_split)\n",
    "samples_versicolor = int(versicolor.shape[0]*data_split)\n",
    "\n",
    "# make train dataset\n",
    "train_setosa = setosa[0:samples_setosa,:]\n",
    "train_verginica = verginica[0:samples_verginica,:]\n",
    "train_versicolor = versicolor[0:samples_versicolor,:]\n",
    "\n",
    "train_data = np.concatenate((train_setosa, train_verginica, train_versicolor), axis=0)\n",
    "\n",
    "# make test dataset\n",
    "test_setosa = setosa[samples_setosa:,:]\n",
    "test_verginica = verginica[samples_verginica:,:]\n",
    "test_versicolor = versicolor[samples_versicolor:,:]\n",
    "\n",
    "test_data = np.concatenate((test_setosa, test_verginica, test_versicolor), axis=0)\n",
    "\n",
    "\n",
    "setosa = train_data[train_data[:,0] == 0,1:5]\n",
    "verginica = train_data[train_data[:,0] == 1,1:5]\n",
    "versicolor = train_data[train_data[:,0] == 2,1:5]\n",
    "\n",
    "plt.plot(setosa[:,0], setosa[:,1], 'ro', verginica[:,0], verginica[:,1], 'bs', versicolor[:,0], versicolor[:,1], 'g^')\n",
    "plt.xlabel('F1')\n",
    "plt.ylabel('F2')\n",
    "plt.title('Original Data')\n",
    "plt.show()"
   ]
  },
  {
   "cell_type": "code",
   "execution_count": 8,
   "metadata": {},
   "outputs": [
    {
     "data": {
      "image/png": "[encoded data removed]",
      "text/plain": [
       "<Figure size 432x288 with 1 Axes>"
      ]
     },
     "metadata": {
      "needs_background": "light"
     },
     "output_type": "display_data"
    },
    {
     "data": {
      "text/plain": [
       "<Figure size 432x288 with 0 Axes>"
      ]
     },
     "metadata": {},
     "output_type": "display_data"
    }
   ],
   "source": [
    "# create a 2D array\n",
    "setosa_mean = np.array([np.mean(setosa, axis=0)])\n",
    "verginica_mean = np.array([np.mean(verginica, axis=0)])\n",
    "versicolor_mean = np.array([np.mean(versicolor, axis=0)])\n",
    "\n",
    "setosa_mean = setosa_mean.transpose()\n",
    "verginica_mean = verginica_mean.transpose()\n",
    "versicolor_mean = versicolor_mean.transpose()\n",
    "\n",
    "total_mean = (setosa_mean+verginica_mean+versicolor_mean)/3.0\n",
    "\n",
    "S1 = np.cov((setosa[:,0], setosa[:,1], setosa[:,2], setosa[:,3]))\n",
    "S2 = np.cov((verginica[:,0], verginica[:,1], verginica[:,2], verginica[:,3]))\n",
    "S3 = np.cov((versicolor[:,0], versicolor[:,1], versicolor[:,2], versicolor[:,3]))\n",
    "# Within class scatter matrix\n",
    "Sw = S1 + S2 + S3\n",
    "\n",
    "r,N1 = setosa.shape\n",
    "r,N2 = verginica.shape\n",
    "r,N3 = versicolor.shape\n",
    "m1 = setosa_mean-total_mean\n",
    "m2 = verginica_mean-total_mean\n",
    "m3 = versicolor_mean-total_mean\n",
    "Sb1 = N1*np.matmul(m1,m1.transpose())\n",
    "Sb2 = N2*np.matmul(m2,m2.transpose())\n",
    "Sb3 = N3*np.matmul(m3,m3.transpose())\n",
    "\n",
    "# Between-class scatter matrix\n",
    "Sb = Sb1 + Sb2 + Sb3;\n",
    "\n",
    "# LDA projection\n",
    "SwSb = np.matmul(np.linalg.pinv(Sw),Sb)\n",
    "\n",
    "# Projection vector\n",
    "w, v = np.linalg.eig(SwSb)\n",
    "\n",
    "# sort according to eigenvalues\n",
    "index = np.argsort(-w)\n",
    "\n",
    "# Use all eigenvectors for full reconstruction\n",
    "W1 = v[:,index]\n",
    "\n",
    "# Reduce dimension\n",
    "W1[:,3] = 0\n",
    "\n",
    "# Project data samples along the projection axes\n",
    "new_setosa = np.matmul(setosa,W1)\n",
    "new_verginica = np.matmul(verginica,W1)\n",
    "new_versicolor = np.matmul(versicolor,W1)\n",
    "\n",
    "plt.plot(new_setosa[:,0], new_setosa[:,1], 'ro', new_verginica[:,0], new_verginica[:,1], 'bs', new_versicolor[:,0], new_versicolor[:,1], 'g^')\n",
    "plt.xlabel('F1')\n",
    "plt.ylabel('F2')\n",
    "plt.title('Transformed Data')\n",
    "plt.show()"
   ]
  },
  {
   "cell_type": "code",
   "execution_count": 9,
   "metadata": {},
   "outputs": [
    {
     "name": "stdout",
     "output_type": "stream",
     "text": [
      "Accuracy for euclidean distance: 1.000000\n",
      "Accuracy for Manhattan distance: 1.000000\n"
     ]
    }
   ],
   "source": [
    "# Project TEST DATA\n",
    "test_project = np.matmul(test_data[:,1:5],W1)\n",
    "\n",
    "# Compute the mean of the prjected data\n",
    "mean_setosa = np.mean(new_setosa, axis = 0)\n",
    "mean_verginica = np.mean(new_verginica, axis = 0)\n",
    "mean_versicolor = np.mean(new_versicolor, axis = 0)\n",
    "\n",
    "acu = 0\n",
    "acu2 = 0 \n",
    "\n",
    "for i in range(0, test_data.shape[0]):\n",
    "    s = test_project[i,:] #smaple\n",
    "    \n",
    "    #Euclidean distance\n",
    "    dist1 = np.sqrt(((s[0]-mean_setosa[0])**2) + ((s[1]-mean_setosa[1])**2) + ((s[2]-mean_setosa[2])**2))\n",
    "    dist2 = np.sqrt(((s[0]-mean_verginica[0])**2) + ((s[1]-mean_verginica[1])**2) + ((s[2]-mean_verginica[2])**2))\n",
    "    dist3 = np.sqrt(((s[0]-mean_versicolor[0])**2) + ((s[1]-mean_versicolor[1])**2) + ((s[2]-mean_versicolor[2])**2))\n",
    "\n",
    "    d = np.array([dist1, dist2, dist3])\n",
    "    idx = np.argsort(d)\n",
    "    predicted_class = idx[0]\n",
    "    \n",
    "    if(test_data[i,0] == predicted_class):\n",
    "        acu = acu+1\n",
    "    \n",
    "    #Manhattan distance\n",
    "    dist4 = np.absolute(s[0]-mean_setosa[0]) + np.absolute(s[1]-mean_setosa[1]) + np.absolute(s[2]-mean_setosa[2])\n",
    "    dist5 = np.absolute(s[0]-mean_verginica[0]) + np.absolute(s[1]-mean_verginica[1]) + np.absolute(s[2]-mean_verginica[2])\n",
    "    dist6 = np.absolute(s[0]-mean_versicolor[0]) + np.absolute(s[1]-mean_versicolor[1]) + np.absolute(s[2]-mean_versicolor[2])\n",
    "\n",
    "    d2 = np.array([dist4, dist5, dist6])\n",
    "    idverginica = np.argsort(d2)\n",
    "    predicted_class2 = idverginica[0]\n",
    "    \n",
    "    if(test_data[i,0] == predicted_class2):\n",
    "        acu2 = acu2+1   \n",
    "print(\"Accuracy for euclidean distance: %f\" %(acu/float(test_project.shape[0])))\n",
    "print(\"Accuracy for Manhattan distance: %f\" %(acu2/float(test_project.shape[0])))"
   ]
  },
  {
   "cell_type": "code",
   "execution_count": null,
   "metadata": {},
   "outputs": [],
   "source": []
  }
 ],
 "metadata": {
  "kernelspec": {
   "display_name": "Python 2",
   "language": "python",
   "name": "python2"
  },
  "language_info": {
   "codemirror_mode": {
    "name": "ipython",
    "version": 2
   },
   "file_extension": ".py",
   "mimetype": "text/x-python",
   "name": "python",
   "nbconvert_exporter": "python",
   "pygments_lexer": "ipython2",
   "version": "2.7.15"
  }
 },
 "nbformat": 4,
 "nbformat_minor": 2
}
