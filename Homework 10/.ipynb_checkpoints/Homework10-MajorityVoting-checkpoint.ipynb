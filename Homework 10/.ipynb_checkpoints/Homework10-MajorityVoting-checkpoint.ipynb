{
 "cells": [
  {
   "cell_type": "code",
   "execution_count": 57,
   "metadata": {},
   "outputs": [],
   "source": [
    "import numpy as np\n",
    "import csv\n",
    "import matplotlib.pyplot as plt\n",
    "from sklearn import tree\n",
    "from sklearn.linear_model import LogisticRegression\n",
    "from sklearn.gaussian_process import GaussianProcessClassifier\n",
    "from sklearn.gaussian_process.kernels import RBF\n",
    "from sklearn.ensemble import RandomForestClassifier, VotingClassifier\n",
    "from sklearn.neighbors import KNeighborsClassifier\n",
    "from sklearn.svm import SVC\n",
    "from sklearn.model_selection import cross_val_score\n",
    "from sklearn.decomposition import PCA\n",
    "from sklearn.preprocessing import StandardScaler\n",
    "from sklearn.metrics import accuracy_score\n",
    "from sklearn.discriminant_analysis import LinearDiscriminantAnalysis as LDA\n",
    "from sklearn.model_selection import train_test_split\n",
    "from warnings import filterwarnings\n",
    "filterwarnings('ignore')\n"
   ]
  },
  {
   "cell_type": "code",
   "execution_count": 58,
   "metadata": {},
   "outputs": [],
   "source": [
    "#Open the data file\n",
    "csv.register_dialect('myDialect',\n",
    "delimiter = '\\t',\n",
    "skipinitialspace=True)\n",
    "\n",
    "#Read data and store the data\n",
    "data_table = []\n",
    "with open('Fisher.txt', 'r') as csvFile:\n",
    "    reader = csv.reader(csvFile, dialect='myDialect')\n",
    "    data_table = list(reader)\n",
    "csvFile.close()\n",
    "\n",
    "header = data_table[0]\n",
    "del data_table[0]\n",
    "\n",
    "data = np.zeros((len(data_table), len(data_table[0])))\n",
    "\n",
    "for i in range(0,len(data_table)):\n",
    "    tmp = data_table[i]\n",
    "    for j in range(0,len(tmp)):\n",
    "        data[i,j] = float(tmp[j])\n",
    "\n",
    "#Seperate the Feature Columns and Label Column        \n",
    "features=data[:,[1,2,3,4]]\n",
    "labels=data[:,[0]]\n"
   ]
  },
  {
   "cell_type": "code",
   "execution_count": 59,
   "metadata": {},
   "outputs": [
    {
     "name": "stdout",
     "output_type": "stream",
     "text": [
      "The Accuracy of the Decision Tree Classifier with 10-fold Cross Validation is : 92.666667% (+/- 0.13)\n",
      "The Accuracy of the Random Forest Classifier with 10-fold Cross Validation is : 92.666667% (+/- 0.13)\n",
      "The Accuracy of the Gaussian Process Classifier with 10-fold Cross Validation is : 94.000000% (+/- 0.09)\n",
      "The Accuracy of the K-Nearest Neighbour Classifier with 10-fold Cross Validation is : 94.000000% (+/- 0.09)\n",
      "The Accuracy of the Support Vector Machine Classifier with 10-fold Cross Validation is : 96.000000% (+/- 0.11)\n"
     ]
    }
   ],
   "source": [
    "#Defince Classifiers to be used\n",
    "d3=tree.DecisionTreeClassifier()\n",
    "rf=RandomForestClassifier(n_estimators=50, random_state=1)\n",
    "gp=GaussianProcessClassifier(1.0 * RBF(1.0))\n",
    "knn=KNeighborsClassifier(n_neighbors=3)\n",
    "svc=SVC(kernel='linear', C=1)\n",
    "\n",
    "#Perform Cross validation on Decision Tree Classifier\n",
    "scores_d3 = cross_val_score(d3, features,np.ravel(labels), cv=10)\n",
    "accur_crossval_d3=scores_d3.mean()*100\n",
    "std_crossval_d3=scores_d3.std()*2\n",
    "print('The Accuracy of the Decision Tree Classifier with 10-fold Cross Validation is : %f'%accur_crossval_d3+'%'+' (+/- %0.2f)'%std_crossval_d3)\n",
    "\n",
    "#Perform Cross validation on Random Forest Classifier\n",
    "scores_rf = cross_val_score(rf, features,np.ravel(labels), cv=10)\n",
    "accur_crossval_rf=scores_rf.mean()*100\n",
    "std_crossval_rf=scores_rf.std()*2\n",
    "print('The Accuracy of the Random Forest Classifier with 10-fold Cross Validation is : %f'%accur_crossval_rf+'%'+' (+/- %0.2f)'%std_crossval_rf)\n",
    "\n",
    "#Perform Cross validation on Gaussian Process  Classifier\n",
    "scores_gp=cross_val_score(gp, features,np.ravel(labels), cv=10)\n",
    "accur_crossval_gp=scores_gp.mean()*100\n",
    "std_crossval_gp=scores_gp.std()*2\n",
    "print('The Accuracy of the Gaussian Process Classifier with 10-fold Cross Validation is : %f'%accur_crossval_gp+'%'+' (+/- %0.2f)'%std_crossval_gp)\n",
    "\n",
    "#Perform Cross validation on K-Nearest Neighbour Classifier\n",
    "scores_knn=cross_val_score(knn, features,np.ravel(labels), cv=10)\n",
    "accur_crossval_knn=scores_knn.mean()*100\n",
    "std_crossval_knn=scores_knn.std()*2\n",
    "print('The Accuracy of the K-Nearest Neighbour Classifier with 10-fold Cross Validation is : %f'%accur_crossval_knn+'%'+' (+/- %0.2f)'%std_crossval_knn)\n",
    "\n",
    "#Perform Cross validation on Support Vector Machine Classifier\n",
    "scores_svc=cross_val_score(svc, features,np.ravel(labels), cv=10)\n",
    "accur_crossval_svc=scores_svc.mean()*100\n",
    "std_crossval_svc=scores_svc.std()*2\n",
    "print('The Accuracy of the Support Vector Machine Classifier with 10-fold Cross Validation is : %f'%accur_crossval_svc+'%'+' (+/- %0.2f)'%std_crossval_svc)\n",
    "\n"
   ]
  },
  {
   "cell_type": "code",
   "execution_count": 60,
   "metadata": {},
   "outputs": [
    {
     "name": "stdout",
     "output_type": "stream",
     "text": [
      "The Accuracy of the Decision Tree Classifier with 10-fold Cross Validation is : 94.666667% (+/- 0.10)\n"
     ]
    }
   ],
   "source": [
    "#Perform Majority Voting on the 5 classifiers\n",
    "mv=VotingClassifier(estimators=[('D3', d3), ('rf', rf), ('gp', gp),('knn',knn),('svc',svc)], voting='hard')\n",
    "scores_mv = cross_val_score(mv, features,np.ravel(labels), cv=10)\n",
    "accur_crossval_eclf=scores_mv.mean()*100\n",
    "std_crossval_mv=scores_mv.std()*2\n",
    "print('The Accuracy of the Decision Tree Classifier with 10-fold Cross Validation is : %f'%accur_crossval_eclf+'%'+' (+/- %0.2f)'%std_crossval_mv)"
   ]
  },
  {
   "cell_type": "code",
   "execution_count": null,
   "metadata": {},
   "outputs": [],
   "source": []
  }
 ],
 "metadata": {
  "kernelspec": {
   "display_name": "Python 3",
   "language": "python",
   "name": "python3"
  },
  "language_info": {
   "codemirror_mode": {
    "name": "ipython",
    "version": 3
   },
   "file_extension": ".py",
   "mimetype": "text/x-python",
   "name": "python",
   "nbconvert_exporter": "python",
   "pygments_lexer": "ipython3",
   "version": "3.7.3"
  }
 },
 "nbformat": 4,
 "nbformat_minor": 2
}
